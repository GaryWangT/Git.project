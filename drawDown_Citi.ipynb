{
 "cells": [
  {
   "cell_type": "code",
   "execution_count": 1,
   "metadata": {},
   "outputs": [],
   "source": [
    "import pandas as pd\n",
    "import numpy as np"
   ]
  },
  {
   "cell_type": "code",
   "execution_count": 3,
   "metadata": {},
   "outputs": [],
   "source": [
    "citi_data = pd.read_csv('/Users/garywang/Downloads/data.csv')\n",
    "citi_data=citi_data.drop(['Open','High','Low','Adj Close','Volume'],axis=1)"
   ]
  },
  {
   "cell_type": "code",
   "execution_count": 28,
   "metadata": {},
   "outputs": [],
   "source": [
    "# Drawdown is a period between a peak (new highs) and subsequent valley (a low point before moving higher).\n",
    "# The drawdown duration is the length of any peak to peak period."
   ]
  },
  {
   "cell_type": "code",
   "execution_count": 70,
   "metadata": {},
   "outputs": [],
   "source": [
    "def worstDrawdown(N):\n",
    "    DD_list = pd.DataFrame(columns = ['drawdownStart','drawdownEnd','drawdownPct'])\n",
    "    peak = citi_data.loc[0,'Close'] \n",
    "    a = 0\n",
    "    drawdownStart = 0\n",
    "    drawdownEnd =0\n",
    "    DD =0 # drawdown\n",
    "    for i in range(1,len(citi_data)):\n",
    "        if citi_data.loc[i,'Close'] > peak:\n",
    "            DD_list.loc[a,'drawdownStart'] = drawdownStart\n",
    "            DD_list.loc[a,'drawdownEnd'] = drawdownEnd\n",
    "            DD_list.loc[a,'drawdownPct'] = (DD/peak) *100\n",
    "            peak = citi_data.loc[i,'Close'] # renew peak\n",
    "            a +=1\n",
    "            DD = 0\n",
    "            drawdownStart = citi_data.loc[i,'Date']\n",
    "        else:\n",
    "            if DD < peak - citi_data.loc[i,'Close']:\n",
    "                DD = peak - citi_data.loc[i,'Close']\n",
    "                drawdownEnd = citi_data.loc[i,'Date']\n",
    "                \n",
    "    DD_list.loc[a,'drawdownStart'] = drawdownStart\n",
    "    DD_list.loc[a,'drawdownEnd'] = drawdownEnd\n",
    "    DD_list.loc[a,'drawdownPct'] = (DD/peak) *100\n",
    "    \n",
    "    DD_list = DD_list[DD_list.drawdownPct>0]\n",
    "    DD_list = DD_list.sort_values(by = ['drawdownPct'], ascending = False, ignore_index = True)\n",
    "    \n",
    "    return [DD_list.loc[N-1,'drawdownStart'], DD_list.loc[N-1,'drawdownEnd'], DD_list.loc[N-1,'drawdownPct']]"
   ]
  },
  {
   "cell_type": "code",
   "execution_count": 78,
   "metadata": {},
   "outputs": [
    {
     "data": {
      "text/plain": [
       "['2006-12-27', '2009-03-05', 98.19180988584193]"
      ]
     },
     "execution_count": 78,
     "metadata": {},
     "output_type": "execute_result"
    }
   ],
   "source": [
    "worstDrawdown(1)"
   ]
  },
  {
   "cell_type": "code",
   "execution_count": null,
   "metadata": {},
   "outputs": [],
   "source": []
  }
 ],
 "metadata": {
  "kernelspec": {
   "display_name": "Python 3",
   "language": "python",
   "name": "python3"
  },
  "language_info": {
   "codemirror_mode": {
    "name": "ipython",
    "version": 3
   },
   "file_extension": ".py",
   "mimetype": "text/x-python",
   "name": "python",
   "nbconvert_exporter": "python",
   "pygments_lexer": "ipython3",
   "version": "3.8.3"
  }
 },
 "nbformat": 4,
 "nbformat_minor": 4
}

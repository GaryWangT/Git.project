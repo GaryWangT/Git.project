{
 "cells": [
  {
   "cell_type": "code",
   "execution_count": 53,
   "metadata": {},
   "outputs": [],
   "source": [
    "import pandas as pd\n",
    "import numpy as np\n",
    "\n",
    "import lightgbm as lgb\n",
    "from sklearn.ensemble import RandomForestRegressor\n",
    "from sklearn import preprocessing\n",
    "from matplotlib import pyplot\n",
    "from numpy import cov\n",
    "from scipy.stats import pearsonr\n",
    "from sklearn.linear_model import LinearRegression"
   ]
  },
  {
   "cell_type": "code",
   "execution_count": 3,
   "metadata": {},
   "outputs": [],
   "source": [
    "data = pd.read_excel('/Users/garywang/Downloads/NPTranData.xlsx')"
   ]
  },
  {
   "cell_type": "code",
   "execution_count": 4,
   "metadata": {},
   "outputs": [
    {
     "name": "stdout",
     "output_type": "stream",
     "text": [
      "<class 'pandas.core.frame.DataFrame'>\n",
      "RangeIndex: 103347 entries, 0 to 103346\n",
      "Data columns (total 4 columns):\n",
      " #   Column           Non-Null Count   Dtype\n",
      "---  ------           --------------   -----\n",
      " 0   trnOpDate        103347 non-null  int64\n",
      " 1   staCode          103347 non-null  int64\n",
      " 2   gateInComingCnt  103347 non-null  int64\n",
      " 3   gateOutGoingCnt  103347 non-null  int64\n",
      "dtypes: int64(4)\n",
      "memory usage: 3.2 MB\n"
     ]
    }
   ],
   "source": [
    "data.info() # Check null value "
   ]
  },
  {
   "cell_type": "code",
   "execution_count": 5,
   "metadata": {},
   "outputs": [],
   "source": [
    "# Q1\n",
    "def top3_staCode_in(data):\n",
    "    # Group datas by 'staCode' and sum up 'gateInComingCnt' by each group. \n",
    "    data1 = data[['staCode','gateInComingCnt']].groupby(['staCode'], as_index = False).sum()\n",
    "    # Sort values by 'gateInComingCnt' and find which 'staCode' are top 3 number of clients go into station.\n",
    "    data1 = data1.sort_values(by = 'gateInComingCnt', ascending = False, ignore_index = True)\n",
    "    staCode1 = data1['staCode'][0]\n",
    "    staCode2 = data1['staCode'][1]\n",
    "    staCode3 = data1['staCode'][2]\n",
    "    return staCode1, staCode2, staCode3"
   ]
  },
  {
   "cell_type": "code",
   "execution_count": 6,
   "metadata": {},
   "outputs": [
    {
     "data": {
      "text/plain": [
       "(1000, 1080, 1100)"
      ]
     },
     "execution_count": 6,
     "metadata": {},
     "output_type": "execute_result"
    }
   ],
   "source": [
    "top3_staCode_in(data)"
   ]
  },
  {
   "cell_type": "code",
   "execution_count": 7,
   "metadata": {},
   "outputs": [],
   "source": [
    "# Q2\n",
    "def top3_staCode_out(data):\n",
    "    # Group datas by 'staCode' and sum up 'gateOutGoingCnt' by each group. \n",
    "    data2 = data[['staCode','gateOutGoingCnt']].groupby(['staCode'], as_index = False).sum()\n",
    "    # Sort values by 'gateOutGoingCnt' and find which 'staCode' are top 3 number of clients out of station.\n",
    "    data2 = data2.sort_values(by = 'gateOutGoingCnt', ascending = False, ignore_index = True)\n",
    "    staCode1 = data1['staCode'][0]\n",
    "    staCode2 = data1['staCode'][1]\n",
    "    staCode3 = data1['staCode'][2]\n",
    "    return staCode1, staCode2, staCode3"
   ]
  },
  {
   "cell_type": "code",
   "execution_count": 8,
   "metadata": {},
   "outputs": [
    {
     "data": {
      "text/plain": [
       "(1000, 1080, 1100)"
      ]
     },
     "execution_count": 8,
     "metadata": {},
     "output_type": "execute_result"
    }
   ],
   "source": [
    "top3_staCode_in(data)"
   ]
  },
  {
   "cell_type": "code",
   "execution_count": 9,
   "metadata": {},
   "outputs": [
    {
     "data": {
      "text/html": [
       "<div>\n",
       "<style scoped>\n",
       "    .dataframe tbody tr th:only-of-type {\n",
       "        vertical-align: middle;\n",
       "    }\n",
       "\n",
       "    .dataframe tbody tr th {\n",
       "        vertical-align: top;\n",
       "    }\n",
       "\n",
       "    .dataframe thead th {\n",
       "        text-align: right;\n",
       "    }\n",
       "</style>\n",
       "<table border=\"1\" class=\"dataframe\">\n",
       "  <thead>\n",
       "    <tr style=\"text-align: right;\">\n",
       "      <th></th>\n",
       "      <th></th>\n",
       "      <th>gateInComingCnt</th>\n",
       "      <th>gateOutGoingCnt</th>\n",
       "      <th>gateDiffCnt</th>\n",
       "    </tr>\n",
       "    <tr>\n",
       "      <th>staCode</th>\n",
       "      <th>trnOpDate</th>\n",
       "      <th></th>\n",
       "      <th></th>\n",
       "      <th></th>\n",
       "    </tr>\n",
       "  </thead>\n",
       "  <tbody>\n",
       "    <tr>\n",
       "      <th rowspan=\"5\" valign=\"top\">900</th>\n",
       "      <th>201904</th>\n",
       "      <td>67693</td>\n",
       "      <td>63678</td>\n",
       "      <td>4015.0</td>\n",
       "    </tr>\n",
       "    <tr>\n",
       "      <th>201905</th>\n",
       "      <td>256178</td>\n",
       "      <td>239728</td>\n",
       "      <td>16450.0</td>\n",
       "    </tr>\n",
       "    <tr>\n",
       "      <th>201906</th>\n",
       "      <td>258489</td>\n",
       "      <td>230870</td>\n",
       "      <td>27965.0</td>\n",
       "    </tr>\n",
       "    <tr>\n",
       "      <th>201907</th>\n",
       "      <td>264650</td>\n",
       "      <td>221442</td>\n",
       "      <td>43208.0</td>\n",
       "    </tr>\n",
       "    <tr>\n",
       "      <th>201908</th>\n",
       "      <td>256300</td>\n",
       "      <td>214089</td>\n",
       "      <td>42211.0</td>\n",
       "    </tr>\n",
       "    <tr>\n",
       "      <th>...</th>\n",
       "      <th>...</th>\n",
       "      <td>...</td>\n",
       "      <td>...</td>\n",
       "      <td>...</td>\n",
       "    </tr>\n",
       "    <tr>\n",
       "      <th rowspan=\"5\" valign=\"top\">7390</th>\n",
       "      <th>202002</th>\n",
       "      <td>10118</td>\n",
       "      <td>10288</td>\n",
       "      <td>500.0</td>\n",
       "    </tr>\n",
       "    <tr>\n",
       "      <th>202003</th>\n",
       "      <td>10610</td>\n",
       "      <td>11093</td>\n",
       "      <td>865.0</td>\n",
       "    </tr>\n",
       "    <tr>\n",
       "      <th>202004</th>\n",
       "      <td>9840</td>\n",
       "      <td>10546</td>\n",
       "      <td>854.0</td>\n",
       "    </tr>\n",
       "    <tr>\n",
       "      <th>202005</th>\n",
       "      <td>10901</td>\n",
       "      <td>11895</td>\n",
       "      <td>1058.0</td>\n",
       "    </tr>\n",
       "    <tr>\n",
       "      <th>202006</th>\n",
       "      <td>11413</td>\n",
       "      <td>12177</td>\n",
       "      <td>856.0</td>\n",
       "    </tr>\n",
       "  </tbody>\n",
       "</table>\n",
       "<p>3586 rows × 3 columns</p>\n",
       "</div>"
      ],
      "text/plain": [
       "                   gateInComingCnt  gateOutGoingCnt  gateDiffCnt\n",
       "staCode trnOpDate                                               \n",
       "900     201904               67693            63678       4015.0\n",
       "        201905              256178           239728      16450.0\n",
       "        201906              258489           230870      27965.0\n",
       "        201907              264650           221442      43208.0\n",
       "        201908              256300           214089      42211.0\n",
       "...                            ...              ...          ...\n",
       "7390    202002               10118            10288        500.0\n",
       "        202003               10610            11093        865.0\n",
       "        202004                9840            10546        854.0\n",
       "        202005               10901            11895       1058.0\n",
       "        202006               11413            12177        856.0\n",
       "\n",
       "[3586 rows x 3 columns]"
      ]
     },
     "execution_count": 9,
     "metadata": {},
     "output_type": "execute_result"
    }
   ],
   "source": [
    "# Q3\n",
    "data_diff = data\n",
    "# Generate new feature 'gateDiffCnt' and deal with 'trnOpDate' to become year+month format.\n",
    "for i in range(len(data_diff)):\n",
    "    data_diff.loc[i,'gateDiffCnt'] = abs(data_diff.loc[i,'gateInComingCnt'] - data_diff.loc[i,'gateOutGoingCnt'])\n",
    "    data_diff.loc[i,'trnOpDate'] = data_diff.loc[i,'trnOpDate']//100\n",
    "\n",
    "# Group 'staCode' and 'trnOpDate' to find the flow of customers for each station in every month.    \n",
    "dataMonth = data_diff.groupby(['staCode','trnOpDate']).sum()\n",
    "dataMonth"
   ]
  },
  {
   "cell_type": "code",
   "execution_count": 10,
   "metadata": {},
   "outputs": [
    {
     "data": {
      "text/html": [
       "<div>\n",
       "<style scoped>\n",
       "    .dataframe tbody tr th:only-of-type {\n",
       "        vertical-align: middle;\n",
       "    }\n",
       "\n",
       "    .dataframe tbody tr th {\n",
       "        vertical-align: top;\n",
       "    }\n",
       "\n",
       "    .dataframe thead th {\n",
       "        text-align: right;\n",
       "    }\n",
       "</style>\n",
       "<table border=\"1\" class=\"dataframe\">\n",
       "  <thead>\n",
       "    <tr style=\"text-align: right;\">\n",
       "      <th></th>\n",
       "      <th></th>\n",
       "      <th>gateInComingCnt</th>\n",
       "      <th>gateOutGoingCnt</th>\n",
       "      <th>gateDiffCnt</th>\n",
       "    </tr>\n",
       "    <tr>\n",
       "      <th>staCode</th>\n",
       "      <th>trnOpDate</th>\n",
       "      <th></th>\n",
       "      <th></th>\n",
       "      <th></th>\n",
       "    </tr>\n",
       "  </thead>\n",
       "  <tbody>\n",
       "    <tr>\n",
       "      <th>1000</th>\n",
       "      <th>202001</th>\n",
       "      <td>1894584</td>\n",
       "      <td>1851622</td>\n",
       "      <td>155102.0</td>\n",
       "    </tr>\n",
       "  </tbody>\n",
       "</table>\n",
       "</div>"
      ],
      "text/plain": [
       "                   gateInComingCnt  gateOutGoingCnt  gateDiffCnt\n",
       "staCode trnOpDate                                               \n",
       "1000    202001             1894584          1851622     155102.0"
      ]
     },
     "execution_count": 10,
     "metadata": {},
     "output_type": "execute_result"
    }
   ],
   "source": [
    "# Find maxium of 'gateDiffCnt'\n",
    "dataMonth[dataMonth['gateDiffCnt']==dataMonth['gateDiffCnt'].max()]"
   ]
  },
  {
   "cell_type": "code",
   "execution_count": 11,
   "metadata": {},
   "outputs": [
    {
     "data": {
      "text/html": [
       "<div>\n",
       "<style scoped>\n",
       "    .dataframe tbody tr th:only-of-type {\n",
       "        vertical-align: middle;\n",
       "    }\n",
       "\n",
       "    .dataframe tbody tr th {\n",
       "        vertical-align: top;\n",
       "    }\n",
       "\n",
       "    .dataframe thead th {\n",
       "        text-align: right;\n",
       "    }\n",
       "</style>\n",
       "<table border=\"1\" class=\"dataframe\">\n",
       "  <thead>\n",
       "    <tr style=\"text-align: right;\">\n",
       "      <th></th>\n",
       "      <th>trnOpDate</th>\n",
       "      <th>staCode</th>\n",
       "      <th>gateInComingCnt</th>\n",
       "      <th>gateOutGoingCnt</th>\n",
       "      <th>gateDiffCnt</th>\n",
       "    </tr>\n",
       "  </thead>\n",
       "  <tbody>\n",
       "    <tr>\n",
       "      <th>count</th>\n",
       "      <td>30.0</td>\n",
       "      <td>30.0</td>\n",
       "      <td>30.000000</td>\n",
       "      <td>30.000000</td>\n",
       "      <td>30.000000</td>\n",
       "    </tr>\n",
       "    <tr>\n",
       "      <th>mean</th>\n",
       "      <td>201911.0</td>\n",
       "      <td>1000.0</td>\n",
       "      <td>65260.166667</td>\n",
       "      <td>64511.100000</td>\n",
       "      <td>2982.333333</td>\n",
       "    </tr>\n",
       "    <tr>\n",
       "      <th>std</th>\n",
       "      <td>0.0</td>\n",
       "      <td>0.0</td>\n",
       "      <td>7236.995900</td>\n",
       "      <td>5959.048694</td>\n",
       "      <td>2293.129143</td>\n",
       "    </tr>\n",
       "    <tr>\n",
       "      <th>min</th>\n",
       "      <td>201911.0</td>\n",
       "      <td>1000.0</td>\n",
       "      <td>56761.000000</td>\n",
       "      <td>56640.000000</td>\n",
       "      <td>386.000000</td>\n",
       "    </tr>\n",
       "    <tr>\n",
       "      <th>25%</th>\n",
       "      <td>201911.0</td>\n",
       "      <td>1000.0</td>\n",
       "      <td>59128.000000</td>\n",
       "      <td>59088.750000</td>\n",
       "      <td>923.250000</td>\n",
       "    </tr>\n",
       "    <tr>\n",
       "      <th>50%</th>\n",
       "      <td>201911.0</td>\n",
       "      <td>1000.0</td>\n",
       "      <td>61048.000000</td>\n",
       "      <td>64066.000000</td>\n",
       "      <td>2292.500000</td>\n",
       "    </tr>\n",
       "    <tr>\n",
       "      <th>75%</th>\n",
       "      <td>201911.0</td>\n",
       "      <td>1000.0</td>\n",
       "      <td>71997.000000</td>\n",
       "      <td>69612.250000</td>\n",
       "      <td>5084.250000</td>\n",
       "    </tr>\n",
       "    <tr>\n",
       "      <th>max</th>\n",
       "      <td>201911.0</td>\n",
       "      <td>1000.0</td>\n",
       "      <td>77361.000000</td>\n",
       "      <td>76778.000000</td>\n",
       "      <td>7955.000000</td>\n",
       "    </tr>\n",
       "  </tbody>\n",
       "</table>\n",
       "</div>"
      ],
      "text/plain": [
       "       trnOpDate  staCode  gateInComingCnt  gateOutGoingCnt  gateDiffCnt\n",
       "count       30.0     30.0        30.000000        30.000000    30.000000\n",
       "mean    201911.0   1000.0     65260.166667     64511.100000  2982.333333\n",
       "std          0.0      0.0      7236.995900      5959.048694  2293.129143\n",
       "min     201911.0   1000.0     56761.000000     56640.000000   386.000000\n",
       "25%     201911.0   1000.0     59128.000000     59088.750000   923.250000\n",
       "50%     201911.0   1000.0     61048.000000     64066.000000  2292.500000\n",
       "75%     201911.0   1000.0     71997.000000     69612.250000  5084.250000\n",
       "max     201911.0   1000.0     77361.000000     76778.000000  7955.000000"
      ]
     },
     "execution_count": 11,
     "metadata": {},
     "output_type": "execute_result"
    }
   ],
   "source": [
    "# Q4\n",
    "# Choose 'staCode'==1000 and 'trnOpDate'==201911 being our example.\n",
    "temp = data_diff[data_diff['staCode']==1000]\n",
    "temp = temp[temp['trnOpDate']==201911]\n",
    "temp.describe()"
   ]
  },
  {
   "cell_type": "code",
   "execution_count": 12,
   "metadata": {},
   "outputs": [
    {
     "data": {
      "image/png": "[encoded data removed]",
      "text/plain": [
       "<Figure size 432x288 with 1 Axes>"
      ]
     },
     "metadata": {
      "needs_background": "light"
     },
     "output_type": "display_data"
    }
   ],
   "source": [
    "# Q5\n",
    "# Check relationship between 'gateInComingCnt' and 'gateOutGoingCnt'\n",
    "pyplot.scatter(data_diff['gateInComingCnt'], data_diff['gateOutGoingCnt'])\n",
    "pyplot.show()"
   ]
  },
  {
   "cell_type": "code",
   "execution_count": 13,
   "metadata": {},
   "outputs": [
    {
     "data": {
      "text/plain": [
       "array([[34753845.86487687, 34606425.15917953],\n",
       "       [34606425.15917953, 34771000.29411459]])"
      ]
     },
     "execution_count": 13,
     "metadata": {},
     "output_type": "execute_result"
    }
   ],
   "source": [
    "# Covariance\n",
    "cov(data_diff['gateInComingCnt'], data_diff['gateOutGoingCnt'])"
   ]
  },
  {
   "cell_type": "code",
   "execution_count": 14,
   "metadata": {},
   "outputs": [
    {
     "data": {
      "text/plain": [
       "(0.9955124858084519, 0.0)"
      ]
     },
     "execution_count": 14,
     "metadata": {},
     "output_type": "execute_result"
    }
   ],
   "source": [
    "# Pearson’s Correlation\n",
    "pearsonr(data_diff['gateInComingCnt'], data_diff['gateOutGoingCnt'])"
   ]
  },
  {
   "cell_type": "code",
   "execution_count": 15,
   "metadata": {},
   "outputs": [],
   "source": [
    "# Q6\n",
    "# Separate training and testing data\n",
    "dataTrain = data_diff[data_diff['trnOpDate']<=202004]\n",
    "dataTest = data_diff[data_diff['trnOpDate']>=202005]"
   ]
  },
  {
   "cell_type": "code",
   "execution_count": 35,
   "metadata": {},
   "outputs": [],
   "source": [
    "# Normalize\n",
    "xTrain = np.array(dataTrain['gateInComingCnt']).reshape((-1,1))\n",
    "yTrain = np.array(dataTrain['gateOutGoingCnt'])\n",
    "xMean = np.mean(xTrain)\n",
    "xStd = np.sqrt(np.var(xTrain))\n",
    "yMean = np.mean(yTrain)\n",
    "yStd = np.sqrt(np.var(yTrain))\n",
    "xTrain = (xTrain-xMean)/xStd\n",
    "yTrain = (yTrain-yMean)/yStd"
   ]
  },
  {
   "cell_type": "code",
   "execution_count": 39,
   "metadata": {},
   "outputs": [
    {
     "name": "stdout",
     "output_type": "stream",
     "text": [
      "275902.98149433115\n"
     ]
    }
   ],
   "source": [
    "# Linear model\n",
    "model = LinearRegression(fit_intercept=True)\n",
    "model.fit(xTrain, yTrain)\n",
    "\n",
    "xTest = np.array(dataTest['gateInComingCnt']).reshape((-1,1))\n",
    "yTest = np.array(dataTest['gateOutGoingCnt'])\n",
    "xTest = (xTest-xMean)/xStd\n",
    "yfit = model.predict(xTest)\n",
    "yfit = yfit * yStd + yMean\n",
    "MSE = sum((yfit - yTest)**2)/len(yTest)\n",
    "print(MSE)"
   ]
  },
  {
   "cell_type": "code",
   "execution_count": 52,
   "metadata": {},
   "outputs": [
    {
     "name": "stdout",
     "output_type": "stream",
     "text": [
      "592481.2167742811\n"
     ]
    }
   ],
   "source": [
    "# LightGBM\n",
    "d_train = lgb.Dataset(xTrain, label= yTrain)\n",
    "param = {'num_leaves': 70, 'objective': 'regression', 'metric': 'rmse', 'maxdepth': 20, 'boosting_type': 'gbdt',\n",
    "        'learning_rate': 0.05}\n",
    "num_round = 50\n",
    "bst = lgb.train(param, d_train, num_round)\n",
    "\n",
    "\n",
    "y_pred = bst.predict(xTest)\n",
    "y_pred = y_pred * yStd + yMean\n",
    "MSE = sum((y_pred - yTest)**2)/len(yTest)\n",
    "print(MSE)"
   ]
  },
  {
   "cell_type": "code",
   "execution_count": null,
   "metadata": {},
   "outputs": [],
   "source": []
  }
 ],
 "metadata": {
  "kernelspec": {
   "display_name": "Python 3",
   "language": "python",
   "name": "python3"
  }
 },
 "nbformat": 4,
 "nbformat_minor": 4
}
